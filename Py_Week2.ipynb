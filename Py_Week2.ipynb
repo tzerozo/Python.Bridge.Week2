{
  "nbformat": 4,
  "nbformat_minor": 0,
  "metadata": {
    "colab": {
      "name": "Py.Week2.ipynb",
      "provenance": [],
      "authorship_tag": "ABX9TyN+jG9QjtSbtlZE9yPzcxIe"
    },
    "kernelspec": {
      "name": "python3",
      "display_name": "Python 3"
    },
    "language_info": {
      "name": "python"
    }
  },
  "cells": [
    {
      "cell_type": "code",
      "execution_count": null,
      "metadata": {
        "id": "omkjPQ3zau5w"
      },
      "outputs": [],
      "source": [
        "# WEEK2 PYTHON CUNY BRIDGE 07/23/2022 \n",
        "# Do not use built in programs to do the following.\n",
        "# Write the programs to demonstrate that you understand the math behind them.  \n",
        "# Provide all solutions in an .html file. \n"
      ]
    },
    {
      "cell_type": "code",
      "source": [
        "# 1.  Write a Python program to compute the eigenvalues and right eigenvectors of a given square array.\n",
        "# Sources: https://www.mathsisfun.com/algebra/eigenvalue.html\n",
        "# Sources: https://numpy.org/doc/stable/reference/generated/numpy.linalg.eig.html\n",
        "# Using/coding with Numpy makes much more easier to work on. Learning the concept of \"eigenvalues and eigenvectors\" is another learning curve for me."
      ],
      "metadata": {
        "id": "foZKKmGObILv"
      },
      "execution_count": null,
      "outputs": []
    },
    {
      "cell_type": "code",
      "source": [
        "import numpy\n",
        "a = numpy.array ([[3, 1],[2, 2]])\n",
        "print (\"Initial Array: \",)\n",
        "print ( a)\n",
        "\n",
        "w,v = numpy.linalg.eig (a)\n",
        "print (\"Eigenvalues is:\", w)\n",
        "print (\"Eigenvectors is:\")\n",
        "print (v)\n"
      ],
      "metadata": {
        "colab": {
          "base_uri": "https://localhost:8080/"
        },
        "id": "dGNuKxRCcdqL",
        "outputId": "d95ff255-afd8-40bb-da30-ba5c47202c45"
      },
      "execution_count": null,
      "outputs": [
        {
          "output_type": "stream",
          "name": "stdout",
          "text": [
            "Initial Array: \n",
            "[[3 1]\n",
            " [2 2]]\n",
            "Eigenvalues is: [4. 1.]\n",
            "Eigenvectors is:\n",
            "[[ 0.70710678 -0.4472136 ]\n",
            " [ 0.70710678  0.89442719]]\n"
          ]
        }
      ]
    },
    {
      "cell_type": "code",
      "source": [
        "# 2.  Write a Python program to compute the factor of a given array by Singular Value Decomposition\n",
        "# Sources: https://machinelearningmastery.com/singular-value-decomposition-for-machine-learning/\n",
        "# Sources: https://gregorygundersen.com/blog/2018/12/10/svd/\n",
        "# Sources: https://numpy.org/doc/stable/reference/generated/numpy.linalg.svd.html\n",
        "\n",
        "# A = UΣV^t or A = UDV^t or A = USV^h (where A has 'm' rows & 'n' columns )\n",
        "# vectors u: orthogonal m * m matrix: its columns are left singular vectors\n",
        "# vectors v: orthogonal n * n matrix: its columns are right singular vectors\n",
        "# values  d: diagonal   m * n matrix: elements along its diagonal are singular values"
      ],
      "metadata": {
        "id": "qaUIByYbcdlu"
      },
      "execution_count": null,
      "outputs": []
    },
    {
      "cell_type": "code",
      "source": [
        "import numpy\n",
        "a = numpy.array ([[0,0,0,1,1],[2,0,0,1,2],[4,1,0,2,0],[3,1,0,2,0]], dtype = numpy.float32)\n",
        "print (\"Initial Array:\")\n",
        "print (a)\n",
        "\n",
        "U, s, V = numpy.linalg.svd (a, full_matrices= False)\n",
        "print(\"U: 2D arrays of m * m square matrix: \", U , \"\\n\")\n",
        "print(\"s: 1D array of singular values: \", s, \"\\n\")\n",
        "print(\"V: 2D arrays of n * n square matrix:\", V)\n"
      ],
      "metadata": {
        "colab": {
          "base_uri": "https://localhost:8080/"
        },
        "id": "5xBF8Awucdij",
        "outputId": "0eb966ff-514d-40fb-f08a-a08fff3772a3"
      },
      "execution_count": null,
      "outputs": [
        {
          "output_type": "stream",
          "name": "stdout",
          "text": [
            "Initial Array:\n",
            "[[0. 0. 0. 1. 1.]\n",
            " [2. 0. 0. 1. 2.]\n",
            " [4. 1. 0. 2. 0.]\n",
            " [3. 1. 0. 2. 0.]]\n",
            "U: 2D arrays of m * m square matrix:  [[-0.09699973  0.48506695  0.7914053  -0.35913602]\n",
            " [-0.38284308  0.787775   -0.44374314  0.18956216]\n",
            " [-0.712383   -0.3006906  -0.17906062 -0.6083033 ]\n",
            " [-0.58011436 -0.23174514  0.3804036   0.6819491 ]] \n",
            "\n",
            "s: 1D array of singular values:  [6.3631787  2.1626036  0.9092391  0.07992283] \n",
            "\n",
            "V: 2D arrays of n * n square matrix: [[-8.41648757e-01 -2.03121349e-01  0.00000000e+00 -4.81651992e-01\n",
            "  -1.35574669e-01]\n",
            " [-1.49101675e-01 -2.46201262e-01  0.00000000e+00  9.61667150e-02\n",
            "   9.52840805e-01]\n",
            " [-5.08686781e-01  2.21441194e-01  0.00000000e+00  8.25248480e-01\n",
            "  -1.05671778e-01]\n",
            " [-1.03120625e-01  9.21461046e-01  1.20736754e-15 -2.78797925e-01\n",
            "   2.50094771e-01]]\n"
          ]
        }
      ]
    },
    {
      "cell_type": "code",
      "source": [
        "# 3.  Write a Python program to compute the determinant of an array.\n",
        "# Sources: https://numpy.org/doc/stable/reference/generated/numpy.linalg.det.html\n",
        "# Sources: https://www.mathsisfun.com/algebra/matrix-determinant.html\n",
        "# Sources: https://www.youtube.com/watch?v=Ip3X9LOh2dk\n",
        "\n",
        "# det([[a,c],[b,d]]) = ad - bc   (for 2D matrix)"
      ],
      "metadata": {
        "id": "m_Hg1GHEcdfp"
      },
      "execution_count": null,
      "outputs": []
    },
    {
      "cell_type": "code",
      "source": [
        "import numpy\n",
        "a = numpy.array ([[3, 2],[1, 5]])\n",
        "print (\"Initial Array:\")\n",
        "print (a)\n",
        "\n",
        "print (\"Determinant:\")\n",
        "print (numpy.linalg.det(a))"
      ],
      "metadata": {
        "colab": {
          "base_uri": "https://localhost:8080/"
        },
        "id": "yMAB-bOzcdS4",
        "outputId": "608a5811-6e96-456e-a130-e1ee293e6f41"
      },
      "execution_count": null,
      "outputs": [
        {
          "output_type": "stream",
          "name": "stdout",
          "text": [
            "Initial Array:\n",
            "[[3 2]\n",
            " [1 5]]\n",
            "Determinant:\n",
            "13.0\n"
          ]
        }
      ]
    }
  ]
}